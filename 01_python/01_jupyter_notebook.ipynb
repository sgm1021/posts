{
 "cells": [
  {
   "cell_type": "markdown",
   "metadata": {},
   "source": [
    "### Jupyter notebook\n",
    "- mode\n",
    "    - 명령모드(esc) : 셀을 수정할때 사용\n",
    "    - 편집모드(enter) : 셀안의 내용을 수정할때 사용\n",
    "- style\n",
    "    - markdown(명령모드 + m) : 셀안에 설명을 작성할때 사용\n",
    "    - code(명령모드 + y) : 파이썬 코드를 작성할때 사용\n",
    "- 단축키\n",
    "    - 셀 실행 : shift + enter\n",
    "    - 셀 삭제 : (명령모드) x\n",
    "    - 되돌리기 : (명령모드) z\n",
    "    - 셀 생성 : (명령모드) a(위에), b(아래)\n"
   ]
  },
  {
   "cell_type": "code",
   "execution_count": 3,
   "metadata": {},
   "outputs": [
    {
     "data": {
      "text/plain": [
       "3"
      ]
     },
     "execution_count": 3,
     "metadata": {},
     "output_type": "execute_result"
    }
   ],
   "source": [
    "1+2"
   ]
  },
  {
   "cell_type": "markdown",
   "metadata": {},
   "source": [
    "### Magic Command\n",
    "- 셀 내부에서 특별하게 동작하는 커멘드\n",
    "- % : 한 줄의 magic command를 동작\n",
    "- %% : 셀단의의 magic command를 동작\n",
    "- 주요 magic command\n",
    "    - pwd : 현재 주피터 노트북 파일의 경로\n",
    "    - ls : 현재 디렉토리의 파일 리스트\n",
    "    - whos : 현재 선언된 변수를 출력\n",
    "    - reset : 현재 선언된 변수를 삭제"
   ]
  },
  {
   "cell_type": "code",
   "execution_count": 4,
   "metadata": {},
   "outputs": [
    {
     "data": {
      "text/plain": [
       "'C:\\\\Code\\\\01_python'"
      ]
     },
     "execution_count": 4,
     "metadata": {},
     "output_type": "execute_result"
    }
   ],
   "source": [
    "%pwd"
   ]
  },
  {
   "cell_type": "code",
   "execution_count": 6,
   "metadata": {},
   "outputs": [
    {
     "name": "stdout",
     "output_type": "stream",
     "text": [
      " Volume in drive C is Windows10\n",
      " Volume Serial Number is E625-BBFB\n",
      "\n",
      " Directory of C:\\Code\\01_python\n",
      "\n",
      "2021-01-21  �삤�썑 10:03    <DIR>          .\n",
      "2021-01-21  �삤�썑 10:03    <DIR>          ..\n",
      "2021-01-21  �삤�썑 09:53    <DIR>          .ipynb_checkpoints\n",
      "2021-01-21  �삤�썑 10:03             1,905 01_jupyter_notebook.ipynb\n",
      "               1 File(s)          1,905 bytes\n",
      "               3 Dir(s)  67,438,399,488 bytes free\n"
     ]
    }
   ],
   "source": [
    "%ls"
   ]
  },
  {
   "cell_type": "code",
   "execution_count": 7,
   "metadata": {},
   "outputs": [
    {
     "name": "stdout",
     "output_type": "stream",
     "text": [
      "Interactive namespace is empty.\n"
     ]
    }
   ],
   "source": [
    "%whos"
   ]
  },
  {
   "cell_type": "code",
   "execution_count": 8,
   "metadata": {},
   "outputs": [
    {
     "name": "stdout",
     "output_type": "stream",
     "text": [
      "Once deleted, variables cannot be recovered. Proceed (y/[n])? y\n"
     ]
    }
   ],
   "source": [
    "%reset"
   ]
  },
  {
   "cell_type": "code",
   "execution_count": 9,
   "metadata": {},
   "outputs": [
    {
     "name": "stdout",
     "output_type": "stream",
     "text": [
      "Interactive namespace is empty.\n"
     ]
    }
   ],
   "source": [
    "%whos"
   ]
  },
  {
   "cell_type": "markdown",
   "metadata": {},
   "source": [
    "### Shell Command\n",
    "- 주피터 노트북을 실행 쉘 환경의 명령을 사용\n",
    "- 명령어 앞에 !를 붙여서 실행\n",
    "- 주요 명령어\n",
    "    - ls, cat, echo ..."
   ]
  },
  {
   "cell_type": "code",
   "execution_count": 10,
   "metadata": {},
   "outputs": [
    {
     "name": "stdout",
     "output_type": "stream",
     "text": [
      "python\n"
     ]
    }
   ],
   "source": [
    "!echo python"
   ]
  },
  {
   "cell_type": "code",
   "execution_count": 11,
   "metadata": {},
   "outputs": [
    {
     "name": "stdout",
     "output_type": "stream",
     "text": [
      "01_jupyter_notebook.ipynb\n"
     ]
    }
   ],
   "source": [
    "!ls"
   ]
  }
 ],
 "metadata": {
  "kernelspec": {
   "display_name": "Python 3",
   "language": "python",
   "name": "python3"
  },
  "language_info": {
   "codemirror_mode": {
    "name": "ipython",
    "version": 3
   },
   "file_extension": ".py",
   "mimetype": "text/x-python",
   "name": "python",
   "nbconvert_exporter": "python",
   "pygments_lexer": "ipython3",
   "version": "3.8.5"
  }
 },
 "nbformat": 4,
 "nbformat_minor": 4
}
