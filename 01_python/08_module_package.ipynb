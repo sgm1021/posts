{
 "cells": [
  {
   "cell_type": "markdown",
   "metadata": {},
   "source": [
    "## Module Package\n",
    "- 모듈 : 변수와 함수, 클래스를 모아놓은 (.py) 확장자를 가진 파일\n",
    "- 패키지 : 모듈의 기능을 디렉토리별로 정리해 놓은 개념"
   ]
  },
  {
   "cell_type": "markdown",
   "metadata": {},
   "source": [
    "### 1. 모듈\n",
    "- 모듈 생성\n",
    "- 모듈 호출"
   ]
  },
  {
   "cell_type": "code",
   "execution_count": 2,
   "metadata": {},
   "outputs": [
    {
     "name": "stdout",
     "output_type": "stream",
     "text": [
      "Writing dss.py\n"
     ]
    }
   ],
   "source": [
    "%%writefile dss.py\n",
    "\n",
    "num = 1234\n",
    "\n",
    "def disp1(msg):\n",
    "    print(\"disp1\", msg)\n",
    "    \n",
    "def disp2(msg):\n",
    "    print(\"disp2\", msg)\n",
    "\n",
    "class Calc:\n",
    "    def plus(self, *args):\n",
    "        return sum(args)"
   ]
  },
  {
   "cell_type": "code",
   "execution_count": 3,
   "metadata": {},
   "outputs": [
    {
     "name": "stdout",
     "output_type": "stream",
     "text": [
      "01_jupyter_notebook.ipynb\n",
      "02_basic_syntax.ipynb\n",
      "03_condition_loop.ipynb\n",
      "04_function.ipynb\n",
      "05_function_2.ipynb\n",
      "06_class_1.ipynb\n",
      "07_class_2.ipynb\n",
      "08_module_package.ipynb\n",
      "dss.py\n"
     ]
    }
   ],
   "source": [
    "!ls"
   ]
  },
  {
   "cell_type": "code",
   "execution_count": 4,
   "metadata": {},
   "outputs": [
    {
     "name": "stdout",
     "output_type": "stream",
     "text": [
      "Once deleted, variables cannot be recovered. Proceed (y/[n])? y\n"
     ]
    }
   ],
   "source": [
    "%reset"
   ]
  },
  {
   "cell_type": "code",
   "execution_count": 5,
   "metadata": {},
   "outputs": [
    {
     "name": "stdout",
     "output_type": "stream",
     "text": [
      "Interactive namespace is empty.\n"
     ]
    }
   ],
   "source": [
    "%whos"
   ]
  },
  {
   "cell_type": "code",
   "execution_count": 6,
   "metadata": {},
   "outputs": [],
   "source": [
    "# 모듈 호출 : import\n",
    "import dss"
   ]
  },
  {
   "cell_type": "code",
   "execution_count": 7,
   "metadata": {},
   "outputs": [
    {
     "name": "stdout",
     "output_type": "stream",
     "text": [
      "Variable   Type      Data/Info\n",
      "------------------------------\n",
      "dss        module    <module 'dss' from 'C:\\\\Code\\\\01_python\\\\dss.py'>\n"
     ]
    }
   ],
   "source": [
    "%whos"
   ]
  },
  {
   "cell_type": "code",
   "execution_count": 8,
   "metadata": {},
   "outputs": [
    {
     "data": {
      "text/plain": [
       "1234"
      ]
     },
     "execution_count": 8,
     "metadata": {},
     "output_type": "execute_result"
    }
   ],
   "source": [
    "dss.num"
   ]
  },
  {
   "cell_type": "code",
   "execution_count": 9,
   "metadata": {},
   "outputs": [
    {
     "name": "stdout",
     "output_type": "stream",
     "text": [
      "disp1 python\n"
     ]
    }
   ],
   "source": [
    "dss.disp1(\"python\")"
   ]
  },
  {
   "cell_type": "code",
   "execution_count": 10,
   "metadata": {},
   "outputs": [],
   "source": [
    "calc = dss.Calc()"
   ]
  },
  {
   "cell_type": "code",
   "execution_count": 11,
   "metadata": {},
   "outputs": [
    {
     "data": {
      "text/plain": [
       "10"
      ]
     },
     "execution_count": 11,
     "metadata": {},
     "output_type": "execute_result"
    }
   ],
   "source": [
    "calc.plus(1,2,3,4)"
   ]
  },
  {
   "cell_type": "code",
   "execution_count": 12,
   "metadata": {},
   "outputs": [],
   "source": [
    "import random"
   ]
  },
  {
   "cell_type": "code",
   "execution_count": 14,
   "metadata": {},
   "outputs": [
    {
     "data": {
      "text/plain": [
       "1"
      ]
     },
     "execution_count": 14,
     "metadata": {},
     "output_type": "execute_result"
    }
   ],
   "source": [
    "random.randint(1, 5)"
   ]
  },
  {
   "cell_type": "code",
   "execution_count": 15,
   "metadata": {},
   "outputs": [],
   "source": [
    "# 모듈 안에 특정 함수, 변수, 클래스 호출"
   ]
  },
  {
   "cell_type": "code",
   "execution_count": 16,
   "metadata": {},
   "outputs": [],
   "source": [
    "from dss import num, disp2"
   ]
  },
  {
   "cell_type": "code",
   "execution_count": 17,
   "metadata": {},
   "outputs": [
    {
     "name": "stdout",
     "output_type": "stream",
     "text": [
      "Variable   Type        Data/Info\n",
      "--------------------------------\n",
      "calc       Calc        <dss.Calc object at 0x0000026C12554340>\n",
      "disp2      function    <function disp2 at 0x0000026C12626670>\n",
      "dss        module      <module 'dss' from 'C:\\\\Code\\\\01_python\\\\dss.py'>\n",
      "num        int         1234\n",
      "random     module      <module 'random' from 'C:<...>aconda3\\\\lib\\\\random.py'>\n"
     ]
    }
   ],
   "source": [
    "%whos"
   ]
  },
  {
   "cell_type": "code",
   "execution_count": 18,
   "metadata": {},
   "outputs": [
    {
     "data": {
      "text/plain": [
       "1234"
      ]
     },
     "execution_count": 18,
     "metadata": {},
     "output_type": "execute_result"
    }
   ],
   "source": [
    "dss.num"
   ]
  },
  {
   "cell_type": "code",
   "execution_count": 19,
   "metadata": {},
   "outputs": [
    {
     "data": {
      "text/plain": [
       "1234"
      ]
     },
     "execution_count": 19,
     "metadata": {},
     "output_type": "execute_result"
    }
   ],
   "source": [
    "num"
   ]
  },
  {
   "cell_type": "code",
   "execution_count": 20,
   "metadata": {},
   "outputs": [
    {
     "name": "stdout",
     "output_type": "stream",
     "text": [
      "Once deleted, variables cannot be recovered. Proceed (y/[n])? y\n"
     ]
    }
   ],
   "source": [
    "%reset"
   ]
  },
  {
   "cell_type": "code",
   "execution_count": 21,
   "metadata": {},
   "outputs": [],
   "source": [
    "from dss import *"
   ]
  },
  {
   "cell_type": "code",
   "execution_count": 22,
   "metadata": {},
   "outputs": [
    {
     "name": "stdout",
     "output_type": "stream",
     "text": [
      "Variable   Type        Data/Info\n",
      "--------------------------------\n",
      "Calc       type        <class 'dss.Calc'>\n",
      "disp1      function    <function disp1 at 0x0000026C12626940>\n",
      "disp2      function    <function disp2 at 0x0000026C12626670>\n",
      "num        int         1234\n"
     ]
    }
   ],
   "source": [
    "%whos"
   ]
  },
  {
   "cell_type": "markdown",
   "metadata": {},
   "source": [
    "### 2. Package\n",
    "- 패키지 생성\n",
    "- 패키지 호출\n",
    "- setup.py 패키지 설치 파일 만들기"
   ]
  },
  {
   "cell_type": "code",
   "execution_count": 23,
   "metadata": {},
   "outputs": [],
   "source": [
    "# 디렉토리 생성"
   ]
  },
  {
   "cell_type": "code",
   "execution_count": 26,
   "metadata": {},
   "outputs": [
    {
     "name": "stderr",
     "output_type": "stream",
     "text": [
      "The syntax of the command is incorrect.\n"
     ]
    }
   ],
   "source": [
    "!mkdir -p school/dss"
   ]
  },
  {
   "cell_type": "code",
   "execution_count": 2,
   "metadata": {},
   "outputs": [
    {
     "name": "stderr",
     "output_type": "stream",
     "text": [
      "The syntax of the command is incorrect.\n"
     ]
    }
   ],
   "source": [
    "!mkdir -p school/web"
   ]
  },
  {
   "cell_type": "markdown",
   "metadata": {},
   "source": [
    "- tree 설치 mac\n",
    "    - homebrew : https://brew.sh/\n",
    "    - homebrew : osx 패키지 설치 관리툴\n",
    "    - '/bin/bash -c \"$(curl -fsSL https://raw.githubusercontent.com/Homebrew/install/HEAD/install.sh)\"'\n",
    "    - brew install tree"
   ]
  },
  {
   "cell_type": "code",
   "execution_count": 9,
   "metadata": {},
   "outputs": [
    {
     "name": "stdout",
     "output_type": "stream",
     "text": [
      "Folder PATH listing for volume Windows10\n",
      "Volume serial number is E625-BBFB\n",
      "C:\\CODE\\01_PYTHON\\SCHOOL\n",
      "├───dss\n",
      "└───web\n"
     ]
    }
   ],
   "source": [
    "!tree school"
   ]
  },
  {
   "cell_type": "code",
   "execution_count": 6,
   "metadata": {},
   "outputs": [],
   "source": [
    "# 패키지 사용시 디렉토리에 __init__.py 파일을 추가\n",
    "# python 3.3 버전 이상에서는 필요없음"
   ]
  },
  {
   "cell_type": "code",
   "execution_count": 8,
   "metadata": {},
   "outputs": [],
   "source": [
    "!touch school/dss/__init__.py\n",
    "!touch school/web/__init__.py"
   ]
  },
  {
   "cell_type": "code",
   "execution_count": 10,
   "metadata": {},
   "outputs": [
    {
     "name": "stdout",
     "output_type": "stream",
     "text": [
      "Folder PATH listing for volume Windows10\n",
      "Volume serial number is E625-BBFB\n",
      "C:\\CODE\\01_PYTHON\\SCHOOL\n",
      "├───dss\n",
      "└───web\n"
     ]
    }
   ],
   "source": [
    "!tree school"
   ]
  },
  {
   "cell_type": "code",
   "execution_count": 12,
   "metadata": {},
   "outputs": [
    {
     "name": "stdout",
     "output_type": "stream",
     "text": [
      "Writing school/dss/data1.py\n"
     ]
    }
   ],
   "source": [
    "%%writefile school/dss/data1.py\n",
    "\n",
    "def plus(*args):\n",
    "    print(\"data1\")\n",
    "    return sum(args)"
   ]
  },
  {
   "cell_type": "code",
   "execution_count": 13,
   "metadata": {},
   "outputs": [
    {
     "name": "stdout",
     "output_type": "stream",
     "text": [
      "Writing school/dss/data2.py\n"
     ]
    }
   ],
   "source": [
    "%%writefile school/dss/data2.py\n",
    "\n",
    "def plus2(*args):\n",
    "    print(\"data2\")\n",
    "    return sum(args)"
   ]
  },
  {
   "cell_type": "code",
   "execution_count": 14,
   "metadata": {},
   "outputs": [
    {
     "name": "stdout",
     "output_type": "stream",
     "text": [
      "Writing school/web/url.py\n"
     ]
    }
   ],
   "source": [
    "%%writefile school/web/url.py\n",
    "\n",
    "def make(url):\n",
    "    return url if url[:7] == \"http://\" else \"http://\" + url"
   ]
  },
  {
   "cell_type": "code",
   "execution_count": 17,
   "metadata": {},
   "outputs": [
    {
     "name": "stdout",
     "output_type": "stream",
     "text": [
      "Folder PATH listing for volume Windows10\n",
      "Volume serial number is E625-BBFB\n",
      "C:\\CODE\\01_PYTHON\\SCHOOL\n",
      "├───dss\n",
      "└───web\n"
     ]
    }
   ],
   "source": [
    "!tree school/"
   ]
  },
  {
   "cell_type": "code",
   "execution_count": 18,
   "metadata": {},
   "outputs": [
    {
     "name": "stdout",
     "output_type": "stream",
     "text": [
      "Once deleted, variables cannot be recovered. Proceed (y/[n])? y\n"
     ]
    }
   ],
   "source": [
    "%reset"
   ]
  },
  {
   "cell_type": "code",
   "execution_count": 19,
   "metadata": {},
   "outputs": [],
   "source": [
    "import school.dss.data1"
   ]
  },
  {
   "cell_type": "code",
   "execution_count": 20,
   "metadata": {},
   "outputs": [
    {
     "name": "stdout",
     "output_type": "stream",
     "text": [
      "Variable   Type      Data/Info\n",
      "------------------------------\n",
      "school     module    <module 'school' (namespace)>\n"
     ]
    }
   ],
   "source": [
    "whos"
   ]
  },
  {
   "cell_type": "code",
   "execution_count": 21,
   "metadata": {},
   "outputs": [
    {
     "name": "stdout",
     "output_type": "stream",
     "text": [
      "data1\n"
     ]
    },
    {
     "data": {
      "text/plain": [
       "6"
      ]
     },
     "execution_count": 21,
     "metadata": {},
     "output_type": "execute_result"
    }
   ],
   "source": [
    "school.dss.data1.plus(1,2,3)"
   ]
  },
  {
   "cell_type": "code",
   "execution_count": 22,
   "metadata": {},
   "outputs": [],
   "source": [
    "import school.dss.data1 as dss"
   ]
  },
  {
   "cell_type": "code",
   "execution_count": 24,
   "metadata": {},
   "outputs": [
    {
     "name": "stdout",
     "output_type": "stream",
     "text": [
      "data1\n"
     ]
    },
    {
     "data": {
      "text/plain": [
       "3"
      ]
     },
     "execution_count": 24,
     "metadata": {},
     "output_type": "execute_result"
    }
   ],
   "source": [
    "dss.plus(1,2)"
   ]
  },
  {
   "cell_type": "code",
   "execution_count": 25,
   "metadata": {},
   "outputs": [],
   "source": [
    "# school.web : 디렉토리\n",
    "# url : 모듈\n",
    "from school.web import url"
   ]
  },
  {
   "cell_type": "code",
   "execution_count": 26,
   "metadata": {},
   "outputs": [
    {
     "data": {
      "text/plain": [
       "'http://google.com'"
      ]
     },
     "execution_count": 26,
     "metadata": {},
     "output_type": "execute_result"
    }
   ],
   "source": [
    "url.make(\"google.com\")"
   ]
  },
  {
   "cell_type": "code",
   "execution_count": 27,
   "metadata": {},
   "outputs": [
    {
     "data": {
      "text/plain": [
       "'http://naver.com'"
      ]
     },
     "execution_count": 27,
     "metadata": {},
     "output_type": "execute_result"
    }
   ],
   "source": [
    "url.make(\"naver.com\")"
   ]
  },
  {
   "cell_type": "code",
   "execution_count": 31,
   "metadata": {},
   "outputs": [],
   "source": [
    "# 패키지의 위치 : 특정 디렉토리에 있는 패키지는 어디에서나 import 가능"
   ]
  },
  {
   "cell_type": "code",
   "execution_count": 29,
   "metadata": {},
   "outputs": [],
   "source": [
    "import random"
   ]
  },
  {
   "cell_type": "code",
   "execution_count": 30,
   "metadata": {},
   "outputs": [
    {
     "name": "stdout",
     "output_type": "stream",
     "text": [
      "01_jupyter_notebook.ipynb\n",
      "02_basic_syntax.ipynb\n",
      "03_condition_loop.ipynb\n",
      "04_function.ipynb\n",
      "05_function_2.ipynb\n",
      "06_class_1.ipynb\n",
      "07_class_2.ipynb\n",
      "08_module_package.ipynb\n",
      "__pycache__\n",
      "dss.py\n",
      "school\n"
     ]
    }
   ],
   "source": [
    "!ls"
   ]
  },
  {
   "cell_type": "code",
   "execution_count": 33,
   "metadata": {},
   "outputs": [
    {
     "name": "stdout",
     "output_type": "stream",
     "text": [
      "C:\\Code\\01_python\n",
      "C:\\Users\\USER\\anaconda3\\python38.zip\n",
      "C:\\Users\\USER\\anaconda3\\DLLs\n",
      "C:\\Users\\USER\\anaconda3\\lib\n",
      "C:\\Users\\USER\\anaconda3\n",
      "\n",
      "C:\\Users\\USER\\anaconda3\\lib\\site-packages\n",
      "C:\\Users\\USER\\anaconda3\\lib\\site-packages\\win32\n",
      "C:\\Users\\USER\\anaconda3\\lib\\site-packages\\win32\\lib\n",
      "C:\\Users\\USER\\anaconda3\\lib\\site-packages\\Pythonwin\n",
      "C:\\Users\\USER\\anaconda3\\lib\\site-packages\\IPython\\extensions\n",
      "C:\\Users\\USER\\.ipython\n"
     ]
    }
   ],
   "source": [
    "import sys\n",
    "\n",
    "for path in sys.path:\n",
    "    print(path)"
   ]
  },
  {
   "cell_type": "code",
   "execution_count": 41,
   "metadata": {},
   "outputs": [
    {
     "data": {
      "text/plain": [
       "207"
      ]
     },
     "execution_count": 41,
     "metadata": {},
     "output_type": "execute_result"
    }
   ],
   "source": [
    "packages = !ls C:\\Users\\USER\\anaconda3\\lib\n",
    "len(packages)"
   ]
  },
  {
   "cell_type": "code",
   "execution_count": 42,
   "metadata": {},
   "outputs": [
    {
     "data": {
      "text/plain": [
       "['xml', 'xmlrpc', 'zipapp.py', 'zipfile.py', 'zipimport.py']"
      ]
     },
     "execution_count": 42,
     "metadata": {},
     "output_type": "execute_result"
    }
   ],
   "source": [
    "packages[-5:]"
   ]
  },
  {
   "cell_type": "code",
   "execution_count": 45,
   "metadata": {},
   "outputs": [],
   "source": [
    "# setup.py 를 작성해서 패키지를 설치해서 사용\n",
    "# setuptools를 이용"
   ]
  },
  {
   "cell_type": "code",
   "execution_count": 44,
   "metadata": {
    "scrolled": false
   },
   "outputs": [
    {
     "name": "stdout",
     "output_type": "stream",
     "text": [
      "Folder PATH listing for volume Windows10\n",
      "Volume serial number is E625-BBFB\n",
      "C:\\CODE\\01_PYTHON\\SCHOOL\n",
      "├───dss\n",
      "│   └───__pycache__\n",
      "└───web\n",
      "    └───__pycache__\n"
     ]
    }
   ],
   "source": [
    "!tree school/"
   ]
  },
  {
   "cell_type": "code",
   "execution_count": 63,
   "metadata": {},
   "outputs": [
    {
     "name": "stdout",
     "output_type": "stream",
     "text": [
      "Overwriting school/dss/__init__.py\n"
     ]
    }
   ],
   "source": [
    "%%writefile school/dss/__init__.py\n",
    "\n",
    "__all__ = [\"data1\", \"data2\"]"
   ]
  },
  {
   "cell_type": "code",
   "execution_count": 57,
   "metadata": {},
   "outputs": [
    {
     "name": "stdout",
     "output_type": "stream",
     "text": [
      "Overwriting school/setup.py\n"
     ]
    }
   ],
   "source": [
    "%%writefile school/setup.py\n",
    "\n",
    "from setuptools import setup, find_packages\n",
    "\n",
    "setup(\n",
    "    nume=\"dss\",\n",
    "    packages=find_packages(),\n",
    "    include_package_data=True,\n",
    "    version=\"0.0.1\",\n",
    "    author_email=\"manimahn12@gmail.com\"\n",
    "    zip_safe=False\n",
    ")"
   ]
  },
  {
   "cell_type": "code",
   "execution_count": 47,
   "metadata": {},
   "outputs": [],
   "source": [
    "!rm dss.py"
   ]
  },
  {
   "cell_type": "code",
   "execution_count": 48,
   "metadata": {},
   "outputs": [],
   "source": [
    "# 패키지 설치 확인"
   ]
  },
  {
   "cell_type": "code",
   "execution_count": 53,
   "metadata": {},
   "outputs": [
    {
     "name": "stderr",
     "output_type": "stream",
     "text": [
      "grep: #: No such file or directory\n",
      "grep: dss媛�: No such file or directory\n",
      "grep: �뱾�뼱媛�: No such file or directory\n",
      "grep: �뙣�궎吏�: No such file or directory\n",
      "grep: �솗�씤: No such file or directory\n",
      "ERROR: Pipe to stdout was broken\n",
      "Exception ignored in: <_io.TextIOWrapper name='<stdout>' mode='w' encoding='cp949'>\n",
      "OSError: [Errno 22] Invalid argument\n"
     ]
    }
   ],
   "source": [
    "!pip list | grep dss # dss가 들어간 패키지 확인"
   ]
  },
  {
   "cell_type": "code",
   "execution_count": 65,
   "metadata": {},
   "outputs": [],
   "source": [
    "# 패키지 설치\n",
    "# school $ python setup.py develop\n",
    "# 커널 리스타트\n",
    "# develop : 개발자모드, 코드를 수정하면 설치된 패키지도 같이 수정\n",
    "# build : 일반모드, 코드를 수정하면 다시 설치해야 수정된 코드가 적용"
   ]
  },
  {
   "cell_type": "code",
   "execution_count": 59,
   "metadata": {},
   "outputs": [],
   "source": [
    "!pip list | grep dss"
   ]
  },
  {
   "cell_type": "code",
   "execution_count": 60,
   "metadata": {},
   "outputs": [
    {
     "name": "stdout",
     "output_type": "stream",
     "text": [
      "numpy                              1.19.2\n",
      "numpydoc                           1.1.0\n"
     ]
    }
   ],
   "source": [
    "!pip list | grep numpy"
   ]
  },
  {
   "cell_type": "code",
   "execution_count": null,
   "metadata": {},
   "outputs": [],
   "source": [
    "from dss import *"
   ]
  },
  {
   "cell_type": "code",
   "execution_count": 62,
   "metadata": {},
   "outputs": [
    {
     "name": "stdout",
     "output_type": "stream",
     "text": [
      "Variable   Type      Data/Info\n",
      "------------------------------\n",
      "dss        module    <module 'school.dss.data1<...>\\\\school\\\\dss\\\\data1.py'>\n",
      "np         module    <module 'numpy' from 'C:\\<...>ges\\\\numpy\\\\__init__.py'>\n",
      "packages   SList     ['__future__.py', '__phel<...>file.py', 'zipimport.py']\n",
      "path       str       C:\\Users\\USER\\.ipython\n",
      "random     module    <module 'random' from 'C:<...>aconda3\\\\lib\\\\random.py'>\n",
      "school     module    <module 'school' (namespace)>\n",
      "sys        module    <module 'sys' (built-in)>\n",
      "url        module    <module 'school.web.url' <...>on\\\\school\\\\web\\\\url.py'>\n"
     ]
    }
   ],
   "source": [
    "%whos"
   ]
  },
  {
   "cell_type": "code",
   "execution_count": 64,
   "metadata": {},
   "outputs": [
    {
     "ename": "NameError",
     "evalue": "name 'data1' is not defined",
     "output_type": "error",
     "traceback": [
      "\u001b[1;31m---------------------------------------------------------------------------\u001b[0m",
      "\u001b[1;31mNameError\u001b[0m                                 Traceback (most recent call last)",
      "\u001b[1;32m<ipython-input-64-572e254ac59d>\u001b[0m in \u001b[0;36m<module>\u001b[1;34m\u001b[0m\n\u001b[1;32m----> 1\u001b[1;33m \u001b[0mdata1\u001b[0m\u001b[1;33m.\u001b[0m\u001b[0mplus\u001b[0m\u001b[1;33m(\u001b[0m\u001b[1;36m1\u001b[0m\u001b[1;33m,\u001b[0m\u001b[1;36m2\u001b[0m\u001b[1;33m)\u001b[0m\u001b[1;33m\u001b[0m\u001b[1;33m\u001b[0m\u001b[0m\n\u001b[0m",
      "\u001b[1;31mNameError\u001b[0m: name 'data1' is not defined"
     ]
    }
   ],
   "source": [
    "data1.plus(1,2)"
   ]
  },
  {
   "cell_type": "code",
   "execution_count": 66,
   "metadata": {},
   "outputs": [],
   "source": [
    "# uninstall\n",
    "# pip uninstall dss"
   ]
  },
  {
   "cell_type": "code",
   "execution_count": 67,
   "metadata": {},
   "outputs": [],
   "source": [
    "!pip list | grep dss"
   ]
  },
  {
   "cell_type": "code",
   "execution_count": null,
   "metadata": {},
   "outputs": [],
   "source": []
  }
 ],
 "metadata": {
  "kernelspec": {
   "display_name": "Python 3",
   "language": "python",
   "name": "python3"
  },
  "language_info": {
   "codemirror_mode": {
    "name": "ipython",
    "version": 3
   },
   "file_extension": ".py",
   "mimetype": "text/x-python",
   "name": "python",
   "nbconvert_exporter": "python",
   "pygments_lexer": "ipython3",
   "version": "3.8.5"
  }
 },
 "nbformat": 4,
 "nbformat_minor": 4
}
