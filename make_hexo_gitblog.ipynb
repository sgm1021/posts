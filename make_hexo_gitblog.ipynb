{
 "cells": [
  {
   "cell_type": "markdown",
   "metadata": {},
   "source": [
    "## 개요"
   ]
  },
  {
   "cell_type": "markdown",
   "metadata": {},
   "source": [
    "- `Hexo` 블로그를 만들어 본다. "
   ]
  },
  {
   "cell_type": "markdown",
   "metadata": {},
   "source": [
    "### 1. 파일 설치"
   ]
  },
  {
   "cell_type": "markdown",
   "metadata": {},
   "source": [
    "- 1단계 : [nodejs.org](https://nodejs.org/en/) 다운로드\n",
    "    - 설치가 되었는지 확인해본다."
   ]
  },
  {
   "cell_type": "code",
   "execution_count": null,
   "metadata": {},
   "outputs": [],
   "source": [
    "$ node -v"
   ]
  },
  {
   "cell_type": "markdown",
   "metadata": {},
   "source": [
    "- 2단계 : [git-scm.com](https://git-scm.com/) 다운로드\n",
    "    - 설치가 되었는지 확인해본다."
   ]
  },
  {
   "cell_type": "code",
   "execution_count": null,
   "metadata": {},
   "outputs": [],
   "source": [
    "$ git --version"
   ]
  },
  {
   "cell_type": "markdown",
   "metadata": {},
   "source": [
    "- 3단계 : hexo 설치\n",
    "    - npm을 통해 hexo를 설치한다."
   ]
  },
  {
   "cell_type": "code",
   "execution_count": null,
   "metadata": {},
   "outputs": [],
   "source": [
    "$ npm install -g hexo-cli"
   ]
  },
  {
   "cell_type": "markdown",
   "metadata": {},
   "source": [
    "### 2. 깃허브 설정"
   ]
  },
  {
   "cell_type": "markdown",
   "metadata": {},
   "source": [
    "- 두개의 깃허브 `Repo`를 생성한다.\n",
    "    - 포스트 버전관리 (name : myblog)\n",
    "    - 포스트 배포용 관리 (name : USERNAME.github.io)\n",
    "    - `USERNAME` 대신에 본인의 `username`을 입력하면 된다.\n",
    "- 생성 후, `myblog repo`를 `git clone`을 통해 적당한 경로에 내려 받는다."
   ]
  },
  {
   "cell_type": "code",
   "execution_count": null,
   "metadata": {},
   "outputs": [],
   "source": [
    "$ git clone your_git_repo_address.git"
   ]
  },
  {
   "cell_type": "markdown",
   "metadata": {},
   "source": [
    "### 3. 블로그 만들기"
   ]
  },
  {
   "cell_type": "markdown",
   "metadata": {},
   "source": [
    "- 내려받은 `myblog`의 경로를 찾아 들어간다.\n",
    "- `myblog`폴더 안에 임의의 블로그 파일명을 만든다."
   ]
  },
  {
   "cell_type": "code",
   "execution_count": null,
   "metadata": {},
   "outputs": [],
   "source": [
    "$ hexo init gitblog # 임의의 파일명\n",
    "$ cd gitblog\n",
    "$ npm install\n",
    "$ npm install hexo-server --save\n",
    "$ npm install hexo-deployer-git --save"
   ]
  },
  {
   "cell_type": "markdown",
   "metadata": {},
   "source": [
    "- `_config.yml` 파일 수정\n",
    "    - 싸이트 정보 수정"
   ]
  },
  {
   "cell_type": "code",
   "execution_count": null,
   "metadata": {},
   "outputs": [],
   "source": [
    "title: 제목을 지어주세요\n",
    "subtitle: 부제목을 지어주세요\n",
    "description: description을 지어주세요\n",
    "author: YourName"
   ]
  },
  {
   "cell_type": "markdown",
   "metadata": {},
   "source": [
    "- 블로그 URL 정보 설정"
   ]
  },
  {
   "cell_type": "code",
   "execution_count": null,
   "metadata": {},
   "outputs": [],
   "source": [
    "url: https://USERNAME.github.io\n",
    "root: /\n",
    "permalink: :year/:month/:day/:title/\n",
    "permalink_defaults:"
   ]
  },
  {
   "cell_type": "markdown",
   "metadata": {},
   "source": [
    "- 깃허브 연동"
   ]
  },
  {
   "cell_type": "code",
   "execution_count": null,
   "metadata": {},
   "outputs": [],
   "source": [
    "# Deployment\n",
    "deploy:\n",
    "  type: git\n",
    "  repo: https://github.com/USERNAME/USERNAME.github.io.git\n",
    "  branch: main"
   ]
  },
  {
   "cell_type": "markdown",
   "metadata": {},
   "source": [
    "### 4. 깃허브에 배포하기"
   ]
  },
  {
   "cell_type": "markdown",
   "metadata": {},
   "source": [
    "- 배포 전, 로컬환경에서 블로그가 뜨는지 확인해본다."
   ]
  },
  {
   "cell_type": "code",
   "execution_count": null,
   "metadata": {},
   "outputs": [],
   "source": [
    "$ hexo generate\n",
    "$ hexo server\n",
    "INFO  Start processing\n",
    "INFO  Hexo is running at http://localhost:4000 . Press Ctrl+C to stop."
   ]
  },
  {
   "cell_type": "markdown",
   "metadata": {},
   "source": [
    "- 확인이 되면 깃허브에 배포한다."
   ]
  },
  {
   "cell_type": "markdown",
   "metadata": {},
   "source": [
    "- 사전에, `gitignore` 파일에서 아래와 같이 설정을 진행한다."
   ]
  },
  {
   "cell_type": "code",
   "execution_count": null,
   "metadata": {},
   "outputs": [],
   "source": [
    ".DS_Store\n",
    "Thumbs.db\n",
    "db.json\n",
    "*.log\n",
    "node_modules/\n",
    "public/\n",
    ".deploy*/"
   ]
  },
  {
   "cell_type": "markdown",
   "metadata": {},
   "source": [
    "- 최종적으로 배포을 진행한다."
   ]
  },
  {
   "cell_type": "code",
   "execution_count": null,
   "metadata": {},
   "outputs": [],
   "source": [
    "$ hexo deploy"
   ]
  },
  {
   "cell_type": "markdown",
   "metadata": {},
   "source": [
    "- 배포가 완료가 되면 브라우저에서 USERNAME.github.io로 접속해 정상적으로 배포가 되었는지 확인한다."
   ]
  },
  {
   "cell_type": "markdown",
   "metadata": {},
   "source": [
    "### 5. 테마 설정하기"
   ]
  },
  {
   "cell_type": "markdown",
   "metadata": {},
   "source": [
    "- `ICARUS` 테마로 변경"
   ]
  },
  {
   "cell_type": "code",
   "execution_count": null,
   "metadata": {},
   "outputs": [],
   "source": [
    "$ git submodule add https://github.com/ppoffice/hexo-theme-icarus.git themes/icarus"
   ]
  },
  {
   "cell_type": "markdown",
   "metadata": {},
   "source": [
    "- `ICARUS` 테마 파일을 `themes` 폴더 안에 이식하는 코드다."
   ]
  },
  {
   "cell_type": "markdown",
   "metadata": {},
   "source": [
    "- 그 다음, `_config.yml`에서 `theme: icarus`로 변경한다."
   ]
  },
  {
   "cell_type": "markdown",
   "metadata": {},
   "source": [
    "- 그 다음, `hexo server` 실행 시, 에러가 날 것이다.\n",
    "        - 에러 예제"
   ]
  },
  {
   "cell_type": "code",
   "execution_count": null,
   "metadata": {},
   "outputs": [],
   "source": [
    "ERROR Package bulma-stylus is not installed.\n",
    "ERROR Package hexo-component-inferno is not installed.\n",
    "ERROR Package hexo-renderer-inferno is not installed.\n",
    "ERROR Package inferno is not installed.\n",
    "ERROR Package inferno-create-element is not installed.\n",
    "ERROR Please install the missing dependencies your Hexo site root directory:\n",
    "ERROR npm install --save bulma-stylus@0.8.0 hexo-component-inferno@^0.2.4 hexo-renderer-inferno@^0.1.3 inferno@^7.3.3 inferno-create-element@^7.3.3"
   ]
  },
  {
   "cell_type": "markdown",
   "metadata": {},
   "source": [
    "- 위와 같은 에러가 발생하면, 출력되는 에러 문구에 따라 패키지들을 설치한다."
   ]
  },
  {
   "cell_type": "code",
   "execution_count": null,
   "metadata": {},
   "outputs": [],
   "source": [
    "$ npm install bulma-stylus\n",
    "$ npm install hexo-component-inferno\n",
    "$ npm install hexo-renderer-inferno\n",
    "$ npm install inferno\n",
    "$ npm install inferno-create-element\n",
    "$ npm install --save bulma-stylus@0.8.0 hexo-component-inferno@^0.4.0 hexo-renderer-inferno@^0.1.3 inferno@^7.3.3 inferno-create-element@^7.3.3\n",
    "$ hexo server # 로컬에서 확인"
   ]
  },
  {
   "cell_type": "markdown",
   "metadata": {},
   "source": [
    "- 로컬 테스트가 완료되면, 깃허브로 배포를 진행한다."
   ]
  },
  {
   "cell_type": "code",
   "execution_count": null,
   "metadata": {},
   "outputs": [],
   "source": [
    "$ hexo deploy --generate"
   ]
  },
  {
   "cell_type": "markdown",
   "metadata": {},
   "source": [
    "- 마지막으로, 포스트 버전관리를 위해 수정된 내용을 깃허브에 업데이트를 진행한다."
   ]
  },
  {
   "cell_type": "code",
   "execution_count": null,
   "metadata": {},
   "outputs": [],
   "source": [
    "$ git add .\n",
    "$ git commit -m \"add: new post updated\"\n",
    "$ git push origin master"
   ]
  },
  {
   "cell_type": "markdown",
   "metadata": {},
   "source": [
    "### 6. 다른환경에 작업하기"
   ]
  },
  {
   "cell_type": "markdown",
   "metadata": {},
   "source": [
    "- 새로운 위치에 `myblog`를 `clone`해 준다."
   ]
  },
  {
   "cell_type": "markdown",
   "metadata": {},
   "source": [
    "- `myblog`폴더 안에 `gitblog`폴더 로 이동 후, `hexo server`로 확인을 하면 에러가 날 것이다.\n",
    "        - 에러 예제"
   ]
  },
  {
   "cell_type": "code",
   "execution_count": null,
   "metadata": {},
   "outputs": [],
   "source": [
    "ERROR Cannot find module 'hexo' from 'C:\\myblog\\gitblog'\n",
    "ERROR Local hexo loading failed in C:\\myblog\\gitblog\n",
    "ERROR Try running: 'rm -rf node_modules && npm install --force'"
   ]
  },
  {
   "cell_type": "markdown",
   "metadata": {},
   "source": [
    "- 출력된 문구에 따라 실행해 준다."
   ]
  },
  {
   "cell_type": "code",
   "execution_count": null,
   "metadata": {},
   "outputs": [],
   "source": [
    "rm -rf node_modules && npm install --force\n",
    "hexo server"
   ]
  },
  {
   "cell_type": "markdown",
   "metadata": {},
   "source": [
    "- 로컬에서 확인이 완료되면 블로그 작업을 한다."
   ]
  },
  {
   "cell_type": "markdown",
   "metadata": {},
   "source": [
    "- 블로그 작업이 끝나면, 위와 같이 `deploy`로 배포하고, 깃허브에 `push`해 업데이트 까지 완료해준다."
   ]
  },
  {
   "cell_type": "code",
   "execution_count": null,
   "metadata": {},
   "outputs": [],
   "source": []
  },
  {
   "cell_type": "code",
   "execution_count": null,
   "metadata": {},
   "outputs": [],
   "source": []
  },
  {
   "cell_type": "code",
   "execution_count": null,
   "metadata": {},
   "outputs": [],
   "source": []
  },
  {
   "cell_type": "code",
   "execution_count": null,
   "metadata": {},
   "outputs": [],
   "source": []
  }
 ],
 "metadata": {
  "kernelspec": {
   "display_name": "Python 3",
   "language": "python",
   "name": "python3"
  },
  "language_info": {
   "codemirror_mode": {
    "name": "ipython",
    "version": 3
   },
   "file_extension": ".py",
   "mimetype": "text/x-python",
   "name": "python",
   "nbconvert_exporter": "python",
   "pygments_lexer": "ipython3",
   "version": "3.8.3"
  }
 },
 "nbformat": 4,
 "nbformat_minor": 4
}
